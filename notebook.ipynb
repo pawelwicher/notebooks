{
  "cells": [
    {
      "cell_type": "markdown",
      "metadata": {},
      "source": [
        "# Notebook"
      ]
    },
    {
      "cell_type": "code",
      "execution_count": null,
      "metadata": {
        "dotnet_interactive": {
          "language": "fsharp"
        }
      },
      "outputs": [
        {
          "data": {
            "text/plain": "Query: "
          },
          "output_type": "unknown"
        },
        {
          "data": {
            "text/plain": "{ \"query\": \"{ continents { name } }\" }"
          },
          "output_type": "unknown"
        },
        {
          "data": {
            "text/plain": "\nResult: "
          },
          "output_type": "unknown"
        },
        {
          "data": {
            "text/plain": "{\"data\":{\"continents\":[{\"name\":\"Africa\"},{\"name\":\"Antarctica\"},{\"name\":\"Asia\"},{\"name\":\"Europe\"},{\"name\":\"North America\"},{\"name\":\"Oceania\"},{\"name\":\"South America\"}]}}\n"
          },
          "output_type": "unknown"
        },
        {
          "data": {
            "text/plain": "\r\n"
          },
          "output_type": "unknown"
        }
      ],
      "source": [
        "#r \"nuget: FSharp.Data, 4.1.1\"\r\n",
        "\r\n",
        "open System\r\n",
        "open FSharp.Data\r\n",
        "\r\n",
        "let query = \"{ \\\"query\\\": \\\"{ continents { name } }\\\" }\"\r\n",
        "let result = Http.RequestString\r\n",
        "              (\r\n",
        "                url = \"https://countries.trevorblades.com\",\r\n",
        "                httpMethod = \"POST\",\r\n",
        "                headers = [ HttpRequestHeaders.ContentType \"application/json\" ],\r\n",
        "                body = TextRequest query\r\n",
        "              )\r\n",
        "printfn $\"Query: {query}\\nResult: {result}\""
      ]
    },
    {
      "cell_type": "code",
      "execution_count": null,
      "metadata": {
        "dotnet_interactive": {
          "language": "fsharp"
        }
      },
      "outputs": [
        {
          "data": {
            "text/html": "<table><thead><tr><th><i>index</i></th><th>value</th></tr></thead><tbody><tr><td>0</td><td><div class=\"dni-plaintext\">1</div></td></tr><tr><td>1</td><td><div class=\"dni-plaintext\">2</div></td></tr></tbody></table>"
          },
          "output_type": "unknown"
        }
      ],
      "source": [
        "1 :: [2]"
      ]
    },
    {
      "cell_type": "code",
      "execution_count": null,
      "metadata": {
        "dotnet_interactive": {
          "language": "fsharp"
        }
      },
      "outputs": [],
      "source": [
        "open System\r\n",
        "\r\n",
        "type RoundingWorkflow(sigDigs : int) =\r\n",
        "    let round (x : float) = Math.Round(float x, sigDigs)\r\n",
        "\r\n",
        "    member this.Bind (result : float, rest : float -> float) =\r\n",
        "        let result' = round result\r\n",
        "        rest result'\r\n",
        "\r\n",
        "    member this.Return (x : float) : float =\r\n",
        "        round x\r\n",
        "\r\n",
        "let withPrecision sigDigs = RoundingWorkflow(sigDigs)\r\n",
        "\r\n",
        "let test =\r\n",
        "    withPrecision 3 {\r\n",
        "      let! x = 1.0 / 3.0\r\n",
        "      return x\r\n",
        "    }\r\n",
        "\r\n",
        "test\r\n"
      ]
    },
    {
      "cell_type": "code",
      "execution_count": null,
      "metadata": {
        "dotnet_interactive": {
          "language": "fsharp"
        }
      },
      "outputs": [
        {
          "data": {
            "text/html": "<div class=\"dni-plaintext\">104743</div>"
          },
          "output_type": "unknown"
        }
      ],
      "source": [
        "let isPrime n =\n",
        "    match n with\n",
        "    | 1 -> false\n",
        "    | 2 -> true\n",
        "    | _ when n % 2 = 0 || [3 .. 2 .. int (sqrt (float n)) + 1] |> Seq.exists (fun x -> n % x = 0) -> false\n",
        "    | _ -> true\n",
        "\n",
        "let prime n =\n",
        "    Seq.initInfinite ((+) 1) |> Seq.filter isPrime |> Seq.item (n - 1)\n",
        "\n",
        "let p = prime 10001\n",
        "\n",
        "p"
      ]
    },
    {
      "cell_type": "code",
      "execution_count": null,
      "metadata": {
        "dotnet_interactive": {
          "language": "fsharp"
        }
      },
      "outputs": [],
      "source": [
        "console.log(2 ** 10);"
      ]
    },
    {
      "cell_type": "code",
      "execution_count": null,
      "metadata": {
        "dotnet_interactive": {
          "language": "fsharp"
        }
      },
      "outputs": [
        {
          "data": {
            "text/html": "<div class=\"dni-plaintext\">2</div>"
          },
          "execution_count": 1,
          "metadata": {},
          "output_type": "execute_result"
        }
      ],
      "source": [
        "var x = 1;\n",
        "x + 1"
      ]
    },
    {
      "cell_type": "code",
      "execution_count": null,
      "metadata": {
        "dotnet_interactive": {
          "language": "fsharp"
        }
      },
      "outputs": [
        {
          "data": {
            "text/plain": "CONTAINER ID        IMAGE                        COMMAND                  CREATED             STATUS              PORTS                                            NAMES\r\n"
          },
          "execution_count": 1,
          "metadata": {},
          "output_type": "execute_result"
        },
        {
          "data": {
            "text/plain": "b572e9cc8f3e        nginx:1.16.1                 \"nginx -g 'daemon of…\"   3 months ago        Up 17 minutes       0.0.0.0:80->80/tcp, 0.0.0.0:443->443/tcp         docker_nginx_proxy\r\n"
          },
          "execution_count": 1,
          "metadata": {},
          "output_type": "execute_result"
        },
        {
          "data": {
            "text/plain": "da39f0754595        portainer/portainer:1.22.2   \"/portainer\"             16 months ago       Up 17 minutes       0.0.0.0:9000->9000/tcp                           docker_portainer\r\n"
          },
          "execution_count": 1,
          "metadata": {},
          "output_type": "execute_result"
        },
        {
          "data": {
            "text/plain": "afeadc49aac0        sath89/oracle-12c            \"/entrypoint.sh \"        2 years ago         Up 17 minutes       0.0.0.0:1521->1521/tcp, 0.0.0.0:8080->8080/tcp   docker_oracle12r1\r\n"
          },
          "execution_count": 1,
          "metadata": {},
          "output_type": "execute_result"
        }
      ],
      "source": [
        "docker ps -a"
      ]
    }
  ],
  "metadata": {
    "kernelspec": {
      "display_name": ".NET (C#)",
      "language": "C#",
      "name": ".net-csharp"
    },
    "language_info": {
      "file_extension": ".cs",
      "mimetype": "text/x-csharp",
      "name": "C#",
      "pygments_lexer": "csharp",
      "version": "9.0"
    },
    "orig_nbformat": 3
  },
  "nbformat": 4,
  "nbformat_minor": 4
}