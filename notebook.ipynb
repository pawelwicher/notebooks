{
  "cells": [
    {
      "cell_type": "markdown",
      "metadata": {},
      "source": [
        "# Notebook"
      ]
    },
    {
      "cell_type": "code",
      "execution_count": null,
      "metadata": {
        "dotnet_interactive": {
          "language": "fsharp"
        }
      },
      "outputs": [
        {
          "data": {
            "text/html": "<table><thead><tr><th><i>index</i></th><th>value</th></tr></thead><tbody><tr><td>0</td><td>1-JG_WBEL 2-01</td></tr><tr><td>1</td><td>1-JG_WBEL 2-02</td></tr><tr><td>2</td><td>1-JG_WBEL 2-03</td></tr><tr><td>3</td><td>1-JG_WBEL 2-04</td></tr><tr><td>4</td><td>1-JG_WBEL 2-05</td></tr><tr><td>5</td><td>1-JG_WBEL 4-06</td></tr><tr><td>6</td><td>1-JG_WBEL 4-07</td></tr><tr><td>7</td><td>1-JG_WBEL 4-08</td></tr><tr><td>8</td><td>1-JG_WBEL 4-09</td></tr><tr><td>9</td><td>1-JG_WBEL 4-10</td></tr></tbody></table>"
          },
          "output_type": "unknown"
        }
      ],
      "source": [
        "#r \"nuget: Oracle.EntityFrameworkCore\"\r\n",
        "\r\n",
        "open System\r\n",
        "open System.ComponentModel.DataAnnotations.Schema\r\n",
        "open Microsoft.EntityFrameworkCore\r\n",
        "open Microsoft.Extensions.Configuration\r\n",
        "\r\n",
        "let connectionString = \"Data Source=(DESCRIPTION = (ADDRESS = (PROTOCOL = TCP)(HOST = localhost)(PORT = 1521))(CONNECT_DATA = (SERVER = DEDICATED)(SERVICE_NAME = XE)));User ID=spr;Password=spr;\"\r\n",
        "\r\n",
        "[<CLIMutable>]\r\n",
        "[<Table(\"OBJ_RANKING\")>]\r\n",
        "type Ranking = { \r\n",
        "      ID : int\r\n",
        "      CODE : string\r\n",
        "    }\r\n",
        "\r\n",
        "type ObjDbContext() =\r\n",
        "    inherit DbContext()\r\n",
        "\r\n",
        "    [<DefaultValue>] val mutable rankings : DbSet<Ranking>    \r\n",
        "    member this.Rankings with get() = this.rankings and set v = this.rankings <- v\r\n",
        "\r\n",
        "    override this.OnConfiguring optionsBuilder =        \r\n",
        "        optionsBuilder.UseOracle(connectionString) |> ignore\r\n",
        "\r\n",
        "let ctx = new ObjDbContext()\r\n",
        "\r\n",
        "let result = query {\r\n",
        "  for r in ctx.Rankings do\r\n",
        "  select r.CODE\r\n",
        "  take 10\r\n",
        "}\r\n",
        "\r\n",
        "result\r\n"
      ]
    },
    {
      "cell_type": "code",
      "execution_count": null,
      "metadata": {
        "dotnet_interactive": {
          "language": "fsharp"
        }
      },
      "outputs": [],
      "source": [
        "open System\r\n",
        "open System.Linq\r\n",
        "open System.Text.RegularExpressions\r\n",
        "open System.IO\r\n",
        "\r\n",
        "let inputDir = @\"C:\\Users\\bsus\\Documents\\Git\\SPR\\spr-backend\"\r\n",
        "let outputDir = @\"C:\\Users\\bsus\\Desktop\"\r\n",
        "let files = Directory.GetFiles(inputDir, \"*Map.cs\", SearchOption.AllDirectories)\r\n",
        "let getModelAndTableName file =\r\n",
        "    let fileContent = File.ReadAllText file\r\n",
        "    let find regex = Regex.Match(fileContent, regex).Groups.[1].Value\r\n",
        "    let modelName = find \"ClassMap<(\\w+)>\"\r\n",
        "    let tableName = find \"Table\\(\\\"(\\w+)\\\"\\)\"\r\n",
        "    let tableName =\r\n",
        "        if String.IsNullOrEmpty tableName then \r\n",
        "            find \" TableName = \\\"(\\w+)\\\";\"\r\n",
        "        else\r\n",
        "            tableName\r\n",
        "    (modelName, tableName)\r\n",
        "\r\n",
        "let data = \r\n",
        "    files\r\n",
        "    |> Seq.map getModelAndTableName\r\n",
        "    |> Seq.filter (fun (model, table) -> not (String.IsNullOrEmpty model || String.IsNullOrEmpty table))\r\n",
        "    |> Seq.map (fun (model, table) -> $\"select '{model}' as model_name, '{table}' as table_name from dual \")\r\n",
        "    |> Array.ofSeq\r\n",
        "    |> String.concat \"union\\n\"\r\n",
        "\r\n",
        "File.WriteAllText(Path.Combine(outputDir, \"foo.txt\"), data)\r\n"
      ]
    },
    {
      "cell_type": "code",
      "execution_count": null,
      "metadata": {
        "dotnet_interactive": {
          "language": "fsharp"
        }
      },
      "outputs": [
        {
          "data": {
            "text/plain": "Query: "
          },
          "output_type": "unknown"
        },
        {
          "data": {
            "text/plain": "{ \"query\": \"{ continents { name } }\" }"
          },
          "output_type": "unknown"
        },
        {
          "data": {
            "text/plain": "\nResult: "
          },
          "output_type": "unknown"
        },
        {
          "data": {
            "text/plain": "{\"data\":{\"continents\":[{\"name\":\"Africa\"},{\"name\":\"Antarctica\"},{\"name\":\"Asia\"},{\"name\":\"Europe\"},{\"name\":\"North America\"},{\"name\":\"Oceania\"},{\"name\":\"South America\"}]}}\n"
          },
          "output_type": "unknown"
        },
        {
          "data": {
            "text/plain": "\r\n"
          },
          "output_type": "unknown"
        }
      ],
      "source": [
        "#r \"nuget: FSharp.Data, 4.1.1\"\r\n",
        "\r\n",
        "open System\r\n",
        "open FSharp.Data\r\n",
        "\r\n",
        "let query = \"{ \\\"query\\\": \\\"{ continents { name } }\\\" }\"\r\n",
        "let result = Http.RequestString\r\n",
        "              (\r\n",
        "                url = \"https://countries.trevorblades.com\",\r\n",
        "                httpMethod = \"POST\",\r\n",
        "                headers = [ HttpRequestHeaders.ContentType \"application/json\" ],\r\n",
        "                body = TextRequest query\r\n",
        "              )\r\n",
        "printfn $\"Query: {query}\\nResult: {result}\""
      ]
    },
    {
      "cell_type": "code",
      "execution_count": null,
      "metadata": {
        "dotnet_interactive": {
          "language": "fsharp"
        }
      },
      "outputs": [
        {
          "data": {
            "text/html": "<table><thead><tr><th><i>index</i></th><th>value</th></tr></thead><tbody><tr><td>0</td><td><div class=\"dni-plaintext\">1</div></td></tr><tr><td>1</td><td><div class=\"dni-plaintext\">2</div></td></tr></tbody></table>"
          },
          "output_type": "unknown"
        }
      ],
      "source": [
        "1 :: [2]"
      ]
    },
    {
      "cell_type": "code",
      "execution_count": null,
      "metadata": {
        "dotnet_interactive": {
          "language": "fsharp"
        }
      },
      "outputs": [],
      "source": [
        "open System\r\n",
        "\r\n",
        "type RoundingWorkflow(sigDigs : int) =\r\n",
        "    let round (x : float) = Math.Round(float x, sigDigs)\r\n",
        "\r\n",
        "    member this.Bind (result : float, rest : float -> float) =\r\n",
        "        let result' = round result\r\n",
        "        rest result'\r\n",
        "\r\n",
        "    member this.Return (x : float) : float =\r\n",
        "        round x\r\n",
        "\r\n",
        "let withPrecision sigDigs = RoundingWorkflow(sigDigs)\r\n",
        "\r\n",
        "let test =\r\n",
        "    withPrecision 3 {\r\n",
        "      let! x = 1.0 / 3.0\r\n",
        "      return x\r\n",
        "    }\r\n",
        "\r\n",
        "test\r\n"
      ]
    },
    {
      "cell_type": "code",
      "execution_count": null,
      "metadata": {
        "dotnet_interactive": {
          "language": "fsharp"
        }
      },
      "outputs": [
        {
          "data": {
            "text/html": "<div class=\"dni-plaintext\">104743</div>"
          },
          "output_type": "unknown"
        }
      ],
      "source": [
        "let isPrime n =\n",
        "    match n with\n",
        "    | 1 -> false\n",
        "    | 2 -> true\n",
        "    | _ when n % 2 = 0 || [3 .. 2 .. int (sqrt (float n)) + 1] |> Seq.exists (fun x -> n % x = 0) -> false\n",
        "    | _ -> true\n",
        "\n",
        "let prime n =\n",
        "    Seq.initInfinite ((+) 1) |> Seq.filter isPrime |> Seq.item (n - 1)\n",
        "\n",
        "let p = prime 10001\n",
        "\n",
        "p"
      ]
    },
    {
      "cell_type": "code",
      "execution_count": null,
      "metadata": {
        "dotnet_interactive": {
          "language": "javascript"
        }
      },
      "outputs": [
        {
          "data": {
            "text/html": "<script type=\"text/javascript\">\nif (typeof window.createDotnetInteractiveClient === typeof Function) {\n    window.createDotnetInteractiveClient('http://localhost:60139/').then(async function (interactive) {\n        const console = interactive.getConsole('5');\n        const notebookScope = getDotnetInteractiveScope('http://localhost:60139/');\n        try {\n\nawait Object.getPrototypeOf(async function() {}).constructor(\n    \"interactive\",\n    \"console\",\n    \"notebookScope\",\n    \"console.log(2 ** 10);\"\n)(\n    interactive,\n    console,\n    notebookScope\n);\n\n        } catch (err) {\n            interactive.failCommand(err, '5');\n        } finally {\n            await interactive.waitForAllEventsToPublish('5');\n            await interactive.markExecutionComplete('5');\n        }\n    });\n}\n</script>"
          },
          "output_type": "unknown"
        },
        {
          "data": {
            "application/json": 1024
          },
          "output_type": "unknown"
        }
      ],
      "source": [
        "console.log(2 ** 10);"
      ]
    },
    {
      "cell_type": "code",
      "execution_count": null,
      "metadata": {
        "dotnet_interactive": {
          "language": "csharp"
        }
      },
      "outputs": [
        {
          "data": {
            "text/html": "<div class=\"dni-plaintext\">2</div>"
          },
          "output_type": "unknown"
        }
      ],
      "source": [
        "var x = 1;\n",
        "x + 1"
      ]
    },
    {
      "cell_type": "code",
      "execution_count": null,
      "metadata": {
        "dotnet_interactive": {
          "language": "fsharp"
        }
      },
      "outputs": [
        {
          "data": {
            "text/plain": "CONTAINER ID        IMAGE                        COMMAND                  CREATED             STATUS              PORTS                                            NAMES\r\n"
          },
          "execution_count": 1,
          "metadata": {},
          "output_type": "execute_result"
        },
        {
          "data": {
            "text/plain": "b572e9cc8f3e        nginx:1.16.1                 \"nginx -g 'daemon of…\"   3 months ago        Up 17 minutes       0.0.0.0:80->80/tcp, 0.0.0.0:443->443/tcp         docker_nginx_proxy\r\n"
          },
          "execution_count": 1,
          "metadata": {},
          "output_type": "execute_result"
        },
        {
          "data": {
            "text/plain": "da39f0754595        portainer/portainer:1.22.2   \"/portainer\"             16 months ago       Up 17 minutes       0.0.0.0:9000->9000/tcp                           docker_portainer\r\n"
          },
          "execution_count": 1,
          "metadata": {},
          "output_type": "execute_result"
        },
        {
          "data": {
            "text/plain": "afeadc49aac0        sath89/oracle-12c            \"/entrypoint.sh \"        2 years ago         Up 17 minutes       0.0.0.0:1521->1521/tcp, 0.0.0.0:8080->8080/tcp   docker_oracle12r1\r\n"
          },
          "execution_count": 1,
          "metadata": {},
          "output_type": "execute_result"
        }
      ],
      "source": [
        "docker ps -a"
      ]
    }
  ],
  "metadata": {
    "language_info": {},
    "orig_nbformat": 3
  },
  "nbformat": 4,
  "nbformat_minor": 4
}