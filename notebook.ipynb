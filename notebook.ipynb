{
  "cells": [
    {
      "cell_type": "markdown",
      "metadata": {},
      "source": [
        "# Notebook"
      ]
    },
    {
      "cell_type": "code",
      "execution_count": null,
      "metadata": {
        "dotnet_interactive": {
          "language": "fsharp"
        }
      },
      "outputs": [
        {
          "data": {
            "text/html": "<div class=\"dni-plaintext\">104743</div>"
          },
          "output_type": "unknown"
        }
      ],
      "source": [
        "let isPrime n =\n",
        "    match n with\n",
        "    | 1 -> false\n",
        "    | 2 -> true\n",
        "    | _ when n % 2 = 0 || [3 .. 2 .. int (sqrt (float n)) + 1] |> Seq.exists (fun x -> n % x = 0) -> false\n",
        "    | _ -> true\n",
        "\n",
        "let prime n =\n",
        "    Seq.initInfinite ((+) 1) |> Seq.filter isPrime |> Seq.item (n - 1)\n",
        "\n",
        "let p = prime 10001\n",
        "\n",
        "p"
      ]
    },
    {
      "cell_type": "code",
      "execution_count": null,
      "metadata": {
        "dotnet_interactive": {
          "language": "javascript"
        }
      },
      "outputs": [
        {
          "data": {
            "text/html": "<script type=\"text/javascript\">\nif (typeof window.createDotnetInteractiveClient === typeof Function) {\n    window.createDotnetInteractiveClient('http://localhost:62674/').then(async function (interactive) {\n        const console = interactive.getConsole('297');\n        const notebookScope = getDotnetInteractiveScope('http://localhost:62674/');\n        try {\n\nawait Object.getPrototypeOf(async function() {}).constructor(\n    \"interactive\",\n    \"console\",\n    \"notebookScope\",\n    \"console.log(2 ** 10);\"\n)(\n    interactive,\n    console,\n    notebookScope\n);\n\n        } catch (err) {\n            interactive.failCommand(err, '297');\n        } finally {\n            await interactive.waitForAllEventsToPublish('297');\n            await interactive.markExecutionComplete('297');\n        }\n    });\n}\n</script>"
          },
          "execution_count": 1,
          "metadata": {},
          "output_type": "execute_result"
        },
        {
          "data": {
            "application/json": 1024
          },
          "execution_count": 1,
          "metadata": {},
          "output_type": "execute_result"
        }
      ],
      "source": [
        "console.log(2 ** 10);"
      ]
    },
    {
      "cell_type": "code",
      "execution_count": null,
      "metadata": {
        "dotnet_interactive": {
          "language": "csharp"
        }
      },
      "outputs": [
        {
          "data": {
            "text/html": "<div class=\"dni-plaintext\">2</div>"
          },
          "execution_count": 1,
          "metadata": {},
          "output_type": "execute_result"
        }
      ],
      "source": [
        "var x = 1;\n",
        "x + 1"
      ]
    },
    {
      "cell_type": "code",
      "execution_count": null,
      "metadata": {
        "dotnet_interactive": {
          "language": "pwsh"
        }
      },
      "outputs": [
        {
          "data": {
            "text/plain": "CONTAINER ID        IMAGE                        COMMAND                  CREATED             STATUS              PORTS                                            NAMES\r\n"
          },
          "execution_count": 1,
          "metadata": {},
          "output_type": "execute_result"
        },
        {
          "data": {
            "text/plain": "b572e9cc8f3e        nginx:1.16.1                 \"nginx -g 'daemon of…\"   3 months ago        Up 17 minutes       0.0.0.0:80->80/tcp, 0.0.0.0:443->443/tcp         docker_nginx_proxy\r\n"
          },
          "execution_count": 1,
          "metadata": {},
          "output_type": "execute_result"
        },
        {
          "data": {
            "text/plain": "da39f0754595        portainer/portainer:1.22.2   \"/portainer\"             16 months ago       Up 17 minutes       0.0.0.0:9000->9000/tcp                           docker_portainer\r\n"
          },
          "execution_count": 1,
          "metadata": {},
          "output_type": "execute_result"
        },
        {
          "data": {
            "text/plain": "afeadc49aac0        sath89/oracle-12c            \"/entrypoint.sh \"        2 years ago         Up 17 minutes       0.0.0.0:1521->1521/tcp, 0.0.0.0:8080->8080/tcp   docker_oracle12r1\r\n"
          },
          "execution_count": 1,
          "metadata": {},
          "output_type": "execute_result"
        }
      ],
      "source": [
        "docker ps -a"
      ]
    },
    {
      "cell_type": "code",
      "execution_count": null,
      "metadata": {
        "dotnet_interactive": {
          "language": "fsharp"
        }
      },
      "outputs": [
        {
          "data": {
            "text/html": "<div class=\"dni-plaintext\">0.333</div>"
          },
          "output_type": "unknown"
        }
      ],
      "source": [
        "open System\r\n",
        "\r\n",
        "type RoundingWorkflow(sigDigs : int) =\r\n",
        "    let round (x : float) = Math.Round(float x, sigDigs)\r\n",
        "\r\n",
        "    member this.Bind (result : float, rest : float -> float) =\r\n",
        "        let result' = round result\r\n",
        "        rest result'\r\n",
        "\r\n",
        "    member this.Return (x : float) : float =\r\n",
        "        round x\r\n",
        "\r\n",
        "let withPrecision sigDigs = RoundingWorkflow(sigDigs)\r\n",
        "\r\n",
        "let test =\r\n",
        "    withPrecision 3 {\r\n",
        "      let! x = 1.0 / 3.0\r\n",
        "      return x\r\n",
        "    }\r\n",
        "\r\n",
        "test\r\n"
      ]
    }
  ],
  "metadata": {
    "kernelspec": {
      "display_name": ".NET (C#)",
      "language": "C#",
      "name": ".net-csharp"
    },
    "language_info": {
      "file_extension": ".cs",
      "mimetype": "text/x-csharp",
      "name": "C#",
      "pygments_lexer": "csharp",
      "version": "9.0"
    }
  },
  "nbformat": 4,
  "nbformat_minor": 4
}