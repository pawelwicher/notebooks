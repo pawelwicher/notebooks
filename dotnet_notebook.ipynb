{
  "cells": [
    {
      "cell_type": "markdown",
      "source": [
        "# Notebook"
      ],
      "metadata": {}
    },
    {
      "cell_type": "code",
      "execution_count": null,
      "source": [
        "//let startDate = DateTime(2021, 10, 31).ToUniversalTime()\r\n",
        "//let endDate = DateTime(2021, 11, 01).ToUniversalTime()\r\n",
        "let startDate = DateTime(2021, 11, 01).ToUniversalTime()\r\n",
        "let endDate = DateTime(2021, 11, 02).ToUniversalTime()\r\n",
        "\r\n",
        "let ts = endDate - startDate\r\n",
        "let hoursCount = ts.Days * 24 + ts.Hours\r\n",
        "let minutesCount = hoursCount * 60\r\n",
        "\r\n",
        "let baseIntervals = [5; 15; 60]\r\n",
        "\r\n",
        "let toIntervals n =\r\n",
        "    baseIntervals\r\n",
        "    |> List.filter (fun x -> n % x = 0)\r\n",
        "\r\n",
        "let intervals =\r\n",
        "    [0 .. 5 .. minutesCount]\r\n",
        "    |> List.tail\r\n",
        "    |> List.map toIntervals\r\n",
        "    |> List.concat\r\n",
        "\r\n",
        "intervals\r\n",
        "|> List.length\r\n",
        "|> printfn \"%i\"\r\n",
        "\r\n",
        "intervals\r\n",
        "|> List.map (sprintf \"%i\")\r\n",
        "|> String.concat \" \""
      ],
      "outputs": [
        {
          "output_type": "stream",
          "name": "stdout",
          "text": [
            "425\r\n"
          ]
        },
        {
          "data": {
            "text/plain": [
              "5 5 5 15 5 5 5 15 5 5 5 15 5 5 5 15 60 5 5 5 15 5 5 5 15 5 5 5 15 5 5 5 15 60 5 5 5 15 5 5 5 15 5 5 5 15 5 5 5 15 60 5 5 5 15 5 5 5 15 5 5 5 15 5 5 5 15 60 5 5 5 15 5 5 5 15 5 5 5 15 5 5 5 15 60 5 5 5 15 5 5 5 15 5 5 5 15 5 5 5 15 60 5 5 5 15 5 5 5 15 5 5 5 15 5 5 5 15 60 5 5 5 15 5 5 5 15 5 5 5 15 5 5 5 15 60 5 5 5 15 5 5 5 15 5 5 5 15 5 5 5 15 60 5 5 5 15 5 5 5 15 5 5 5 15 5 5 5 15 60 5 5 5 15 5 5 5 15 5 5 5 15 5 5 5 15 60 5 5 5 15 5 5 5 15 5 5 5 15 5 5 5 15 60 5 5 5 15 5 5 5 15 5 5 5 15 5 5 5 15 60 5 5 5 15 5 5 5 15 5 5 5 15 5 5 5 15 60 5 5 5 15 5 5 5 15 5 5 5 15 5 5 5 15 60 5 5 5 15 5 5 5 15 5 5 5 15 5 5 5 15 60 5 5 5 15 5 5 5 15 5 5 5 15 5 5 5 15 60 5 5 5 15 5 5 5 15 5 5 5 15 5 5 5 15 60 5 5 5 15 5 5 5 15 5 5 5 15 5 5 5 15 60 5 5 5 15 5 5 5 15 5 5 5 15 5 5 5 15 60 5 5 5 15 5 5 5 15 5 5 5 15 5 5 5 15 60 5 5 5 15 5 5 5 15 5 5 5 15 5 5 5 15 60 5 5 5 15 5 5 5 15 5 5 5 15 5 5 5 15 60 5 5 5 15 5 5 5 15 5 5 5 15 5 5 5 15 60 5 5 5 15 5 5 5 15 5 5 5 15 5 5 5 15 60"
            ]
          },
          "metadata": {},
          "output_type": "display_data"
        }
      ],
      "metadata": {
        "dotnet_interactive": {
          "language": "fsharp"
        }
      }
    },
    {
      "cell_type": "code",
      "execution_count": null,
      "source": [
        "string Test(ReadOnlySpan<char> span) {\r\n",
        "    var buffer = new Span<char>(new char[1]);\r\n",
        "    span[.. 1].ToLower(buffer, System.Globalization.CultureInfo.CurrentCulture);\r\n",
        "    return string.Concat(buffer, span[1 ..]);\r\n",
        "}\r\n",
        "\r\n",
        "var x = Test(\"SomeProp\");\r\n",
        "x"
      ],
      "outputs": [
        {
          "output_type": "display_data",
          "data": {
            "text/plain": [
              "someProp"
            ]
          },
          "metadata": {}
        }
      ],
      "metadata": {
        "dotnet_interactive": {
          "language": "csharp"
        }
      }
    },
    {
      "cell_type": "code",
      "execution_count": null,
      "source": [
        "let (a, b) = (1, 2)\r\n",
        "a + b"
      ],
      "outputs": [
        {
          "output_type": "display_data",
          "data": {
            "text/html": [
              "<div class=\"dni-plaintext\">3</div>"
            ]
          },
          "metadata": {}
        }
      ],
      "metadata": {
        "dotnet_interactive": {
          "language": "fsharp"
        }
      }
    },
    {
      "cell_type": "code",
      "execution_count": null,
      "source": [
        "<p style=\"color: red;\">hello</p>"
      ],
      "outputs": [],
      "metadata": {
        "dotnet_interactive": {
          "language": "html"
        }
      }
    },
    {
      "cell_type": "code",
      "execution_count": null,
      "source": [
        "#r \"nuget: Oracle.EntityFrameworkCore\"\r\n",
        "\r\n",
        "open System\r\n",
        "open System.ComponentModel.DataAnnotations.Schema\r\n",
        "open Microsoft.EntityFrameworkCore\r\n",
        "open Microsoft.Extensions.Configuration\r\n",
        "\r\n",
        "let connectionString = \"Data Source=(DESCRIPTION = (ADDRESS = (PROTOCOL = TCP)(HOST = localhost)(PORT = 1521))(CONNECT_DATA = (SERVER = DEDICATED)(SERVICE_NAME = XE)));User ID=spr;Password=spr;\"\r\n",
        "\r\n",
        "[<CLIMutable>]\r\n",
        "[<Table(\"OBJ_RANKING\")>]\r\n",
        "type Ranking = { \r\n",
        "      ID : int\r\n",
        "      CODE : string\r\n",
        "    }\r\n",
        "\r\n",
        "type ObjDbContext() =\r\n",
        "    inherit DbContext()\r\n",
        "\r\n",
        "    [<DefaultValue>] val mutable rankings : DbSet<Ranking>    \r\n",
        "    member this.Rankings with get() = this.rankings and set v = this.rankings <- v\r\n",
        "\r\n",
        "    override this.OnConfiguring optionsBuilder =        \r\n",
        "        optionsBuilder.UseOracle(connectionString) |> ignore\r\n",
        "\r\n",
        "let ctx = new ObjDbContext()\r\n",
        "\r\n",
        "let result = query {\r\n",
        "  for r in ctx.Rankings do\r\n",
        "  select r.CODE\r\n",
        "  take 10\r\n",
        "}\r\n",
        "\r\n",
        "result\r\n"
      ],
      "outputs": [],
      "metadata": {
        "dotnet_interactive": {
          "language": "fsharp"
        }
      }
    },
    {
      "cell_type": "code",
      "execution_count": null,
      "source": [
        "open System\r\n",
        "open System.Linq\r\n",
        "open System.Text.RegularExpressions\r\n",
        "open System.IO\r\n",
        "\r\n",
        "let inputDir = @\"C:\\DEV\\Git\\SPR\\spr-backend\"\r\n",
        "let outputDir = @\"C:\\DEV\\Git\\SPR\"\r\n",
        "let files = Directory.GetFiles(inputDir, \"*Map.cs\", SearchOption.AllDirectories)\r\n",
        "let getModelAndTableName file =\r\n",
        "    let fileContent = File.ReadAllText file\r\n",
        "    let find regex = Regex.Match(fileContent, regex).Groups.[1].Value\r\n",
        "    let modelName = find \"ClassMap<(\\w+)>\"\r\n",
        "    let tableName = find \"Table\\(\\\"(\\w+)\\\"\\)\"\r\n",
        "    let tableName =\r\n",
        "        if String.IsNullOrEmpty tableName then \r\n",
        "            find \" TableName = \\\"(\\w+)\\\";\"\r\n",
        "        else\r\n",
        "            tableName\r\n",
        "    (modelName, tableName)\r\n",
        "\r\n",
        "let data = \r\n",
        "    files\r\n",
        "    |> Seq.map getModelAndTableName\r\n",
        "    |> Seq.filter (fun (model, table) -> not (String.IsNullOrEmpty model || String.IsNullOrEmpty table))\r\n",
        "    |> Seq.map (fun (model, table) -> $\"select '{model}' as model_name, '{table}' as table_name from dual \")\r\n",
        "    |> Array.ofSeq\r\n",
        "    |> String.concat \"union\\n\"\r\n",
        "\r\n",
        "File.WriteAllText(Path.Combine(outputDir, \"foo.txt\"), data)\r\n"
      ],
      "outputs": [],
      "metadata": {
        "dotnet_interactive": {
          "language": "fsharp"
        }
      }
    },
    {
      "cell_type": "code",
      "execution_count": null,
      "source": [
        "#r \"nuget: FSharp.Data, 4.1.1\"\r\n",
        "\r\n",
        "open System\r\n",
        "open FSharp.Data\r\n",
        "\r\n",
        "let query = \"{ \\\"query\\\": \\\"{ continents { name } }\\\" }\"\r\n",
        "let result = Http.RequestString\r\n",
        "              (\r\n",
        "                url = \"https://countries.trevorblades.com\",\r\n",
        "                httpMethod = \"POST\",\r\n",
        "                headers = [ HttpRequestHeaders.ContentType \"application/json\" ],\r\n",
        "                body = TextRequest query\r\n",
        "              )\r\n",
        "printfn $\"Query: {query}\\nResult: {result}\""
      ],
      "outputs": [],
      "metadata": {
        "dotnet_interactive": {
          "language": "fsharp"
        }
      }
    },
    {
      "cell_type": "code",
      "execution_count": null,
      "source": [
        "1 :: [2]"
      ],
      "outputs": [],
      "metadata": {
        "dotnet_interactive": {
          "language": "fsharp"
        }
      }
    },
    {
      "cell_type": "code",
      "execution_count": null,
      "source": [
        "open System\r\n",
        "\r\n",
        "type RoundingWorkflow(sigDigs : int) =\r\n",
        "    let round (x : float) = Math.Round(float x, sigDigs)\r\n",
        "\r\n",
        "    member this.Bind (result : float, rest : float -> float) =\r\n",
        "        let result' = round result\r\n",
        "        rest result'\r\n",
        "\r\n",
        "    member this.Return (x : float) : float =\r\n",
        "        round x\r\n",
        "\r\n",
        "let withPrecision sigDigs = RoundingWorkflow(sigDigs)\r\n",
        "\r\n",
        "let test =\r\n",
        "    withPrecision 3 {\r\n",
        "      let! x = 1.0 / 3.0\r\n",
        "      return x\r\n",
        "    }\r\n",
        "\r\n",
        "test\r\n"
      ],
      "outputs": [],
      "metadata": {
        "dotnet_interactive": {
          "language": "fsharp"
        }
      }
    },
    {
      "cell_type": "code",
      "execution_count": null,
      "source": [
        "let isPrime n =\r\n",
        "    match n with\r\n",
        "    | 1 -> false\r\n",
        "    | 2 -> true\r\n",
        "    | _ when n % 2 = 0 || [3 .. 2 .. int (sqrt (float n)) + 1] |> Seq.exists (fun x -> n % x = 0) -> false\r\n",
        "    | _ -> true\r\n",
        "\r\n",
        "let prime n =\r\n",
        "    Seq.initInfinite ((+) 1) |> Seq.filter isPrime |> Seq.item (n - 1)\r\n",
        "\r\n",
        "let p = prime 10001\r\n",
        "\r\n",
        "p"
      ],
      "outputs": [],
      "metadata": {
        "dotnet_interactive": {
          "language": "fsharp"
        }
      }
    },
    {
      "cell_type": "code",
      "execution_count": null,
      "source": [
        "console.log(2 ** 10);"
      ],
      "outputs": [],
      "metadata": {
        "dotnet_interactive": {
          "language": "javascript"
        }
      }
    },
    {
      "cell_type": "code",
      "execution_count": null,
      "source": [
        "var x = 1;\r\n",
        "x + 1"
      ],
      "outputs": [],
      "metadata": {
        "dotnet_interactive": {
          "language": "csharp"
        }
      }
    },
    {
      "cell_type": "code",
      "execution_count": null,
      "source": [
        "docker ps -a"
      ],
      "outputs": [],
      "metadata": {
        "dotnet_interactive": {
          "language": "pwsh"
        }
      }
    }
  ],
  "metadata": {
    "kernelspec": {
      "display_name": ".NET (C#)",
      "language": "C#",
      "name": ".net-csharp"
    },
    "language_info": {
      "file_extension": ".cs",
      "mimetype": "text/x-csharp",
      "name": "C#",
      "pygments_lexer": "csharp",
      "version": "9.0"
    },
    "orig_nbformat": 3
  },
  "nbformat": 4,
  "nbformat_minor": 4
}