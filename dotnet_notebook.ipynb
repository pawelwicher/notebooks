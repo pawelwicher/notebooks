{
  "cells": [
    {
      "cell_type": "markdown",
      "metadata": {},
      "source": [
        "# Notebook"
      ]
    },
    {
      "cell_type": "code",
      "execution_count": null,
      "metadata": {
        "dotnet_interactive": {
          "language": "fsharp"
        }
      },
      "outputs": [
        {
          "name": "stdout",
          "output_type": "stream",
          "text": [
            "31.10.2021 00:00:00\r\n",
            "26\r\n"
          ]
        },
        {
          "data": {
            "text/plain": [
              "[60 01:00 0] [60 02:00 0] [60 03:00 0] [60 03:00A 0] [60 04:00 0] [60 05:00 0] [60 06:00 0] [60 07:00 0] [60 08:00 0] [60 09:00 0] [60 10:00 0] [60 11:00 0] [60 12:00 0] [60 13:00 0] [60 14:00 0] [60 15:00 0] [60 16:00 0] [60 17:00 0] [60 18:00 0] [60 19:00 0] [60 20:00 0] [60 21:00 0] [60 22:00 0] [60 23:00 0] [60 00:00 0] [1440 00:00 25]"
            ]
          },
          "metadata": {},
          "output_type": "display_data"
        }
      ],
      "source": [
        "let getLastSundayDate year month =\n",
        "    let lastDayOfMonth = DateTime(year, month, 1).AddMonths(1).AddDays(-1.0)\n",
        "    let wantedDay = int DayOfWeek.Sunday;\n",
        "    let lastDay = int lastDayOfMonth.DayOfWeek;\n",
        "    lastDayOfMonth.AddDays(float (if lastDay >= wantedDay then wantedDay - lastDay else wantedDay - lastDay - 7))\n",
        "\n",
        "let winterTimeChangeDate = getLastSundayDate 2021 10\n",
        "Console.WriteLine(winterTimeChangeDate)\n",
        "\n",
        "let getHeader ((interval, dateUtc) : (int * DateTime)) =\n",
        "    let dateLocal = dateUtc.ToLocalTime()\n",
        "    let winterTimeChangeDate = getLastSundayDate dateLocal.Year 10\n",
        "    let summerTimeChangeDate = getLastSundayDate dateLocal.Year 3\n",
        "    if dateLocal.Date = winterTimeChangeDate && (dateUtc.Hour = 1 && dateUtc.Minute > 0 || dateUtc.Hour = 2 && dateUtc.Minute = 0) then\n",
        "        dateLocal.ToString(\"HH:mmA\")\n",
        "    elif dateLocal.Date = winterTimeChangeDate && dateUtc.Hour = 1 && dateUtc.Minute = 0 then\n",
        "        \"03:00\"\n",
        "    elif dateLocal.Date = summerTimeChangeDate && dateUtc.Hour = 1 && dateUtc.Minute = 0 then\n",
        "        \"02:00\"\n",
        "    else\n",
        "        dateLocal.ToString(\"HH:mm\")\n",
        "\n",
        "let startDate = DateTime(2021, 10, 31).ToUniversalTime()\n",
        "let endDate = DateTime(2021, 11, 01).ToUniversalTime()\n",
        "// let startDate = DateTime(2021, 11, 01).ToUniversalTime()\n",
        "// let endDate = DateTime(2021, 11, 02).ToUniversalTime()\n",
        "// let startDate = DateTime(2021, 03, 28).ToUniversalTime()\n",
        "// let endDate = DateTime(2021, 03, 29).ToUniversalTime()\n",
        "\n",
        "let Five = 5\n",
        "let Quarter = 15\n",
        "let Hour = 60\n",
        "let Day = 1440\n",
        "\n",
        "let systemIntervals = [15; 60; 1440]\n",
        "\n",
        "let getIntervals (startDateUtc : DateTime) (endDateUtc : DateTime) =\n",
        "    let includeFive = systemIntervals |> List.contains Five\n",
        "    let includeQuarter = systemIntervals |> List.contains Quarter\n",
        "    let includeHour = systemIntervals |> List.contains Hour\n",
        "    let includeDay = systemIntervals |> List.contains Day\n",
        "\n",
        "    let fiveOffset = if includeFive then 3 else 0\n",
        "    let quarterOffset = if includeQuarter then 4 else 0\n",
        "    let hourOffset = if includeHour then 1 else 0\n",
        "\n",
        "    seq {\n",
        "        let mutable dateUtc = startDateUtc.AddMinutes(float Five)\n",
        "        let mutable hourCount = 0\n",
        "        while dateUtc <= endDateUtc do\n",
        "            let dateLocal = dateUtc.ToLocalTime()\n",
        "\n",
        "            if dateLocal.Minute = 0 then\n",
        "                hourCount <- hourCount + 1\n",
        "\n",
        "            if includeFive then\n",
        "                yield Five, dateUtc, 0\n",
        "\n",
        "            if includeQuarter && (dateLocal.Minute = 15 || dateLocal.Minute = 30 || dateLocal.Minute = 45 || dateLocal.Minute = 0) then\n",
        "                yield Quarter, dateUtc, fiveOffset\n",
        "\n",
        "            if includeHour && dateLocal.Minute = 0 then\n",
        "                yield Hour, dateUtc, (fiveOffset * 4 + quarterOffset)\n",
        "\n",
        "            if includeDay && dateLocal.Hour = 0 && dateLocal.Minute = 0 then\n",
        "                yield Day, dateUtc, (fiveOffset * 4 + quarterOffset + hourOffset) * hourCount\n",
        "                hourCount <- 0\n",
        "\n",
        "            dateUtc <- dateUtc.AddMinutes(float Five)\n",
        "    }\n",
        "\n",
        "let intervals = getIntervals startDate endDate\n",
        "\n",
        "Console.WriteLine(intervals |> Seq.length)\n",
        "\n",
        "// 00:15\t00:30\t00:45\t01:00\t01:00\n",
        "// 01:15\t01:30\t01:45\t02:00\t02:00\n",
        "// 02:15\t02:30\t02:45\t03:00\t03:00\n",
        "// 02:15A\t02:30A\t02:45A\t03:00A\t03:00A\n",
        "// 03:15\t03:30\t03:45\t04:00\t04:00\n",
        "\n",
        "intervals\n",
        "|> Seq.map (fun (i, d, count) -> i, (getHeader (i, d)), count)\n",
        "|> Seq.map (fun (i, text, count) -> sprintf \"[%i %s %i]\" i text count)\n",
        "|> String.concat \" \""
      ]
    },
    {
      "cell_type": "code",
      "execution_count": null,
      "metadata": {
        "dotnet_interactive": {
          "language": "csharp"
        }
      },
      "outputs": [
        {
          "data": {
            "text/plain": [
              "someProp"
            ]
          },
          "metadata": {},
          "output_type": "display_data"
        }
      ],
      "source": [
        "string Test(ReadOnlySpan<char> span) {\n",
        "    var buffer = new Span<char>(new char[1]);\n",
        "    span[.. 1].ToLower(buffer, System.Globalization.CultureInfo.CurrentCulture);\n",
        "    return string.Concat(buffer, span[1 ..]);\n",
        "}\n",
        "\n",
        "var x = Test(\"SomeProp\");\n",
        "x"
      ]
    },
    {
      "cell_type": "code",
      "execution_count": null,
      "metadata": {
        "dotnet_interactive": {
          "language": "html"
        }
      },
      "outputs": [],
      "source": [
        "<p style=\"color: red;\">hello</p>"
      ]
    },
    {
      "cell_type": "code",
      "execution_count": null,
      "metadata": {
        "dotnet_interactive": {
          "language": "fsharp"
        }
      },
      "outputs": [],
      "source": [
        "#r \"nuget: Oracle.EntityFrameworkCore\"\n",
        "\n",
        "open System\n",
        "open System.ComponentModel.DataAnnotations.Schema\n",
        "open Microsoft.EntityFrameworkCore\n",
        "open Microsoft.Extensions.Configuration\n",
        "\n",
        "let connectionString = \"Data Source=(DESCRIPTION = (ADDRESS = (PROTOCOL = TCP)(HOST = localhost)(PORT = 1521))(CONNECT_DATA = (SERVER = DEDICATED)(SERVICE_NAME = XE)));User ID=spr;Password=spr;\"\n",
        "\n",
        "[<CLIMutable>]\n",
        "[<Table(\"OBJ_RANKING\")>]\n",
        "type Ranking = { \n",
        "      ID : int\n",
        "      CODE : string\n",
        "    }\n",
        "\n",
        "type ObjDbContext() =\n",
        "    inherit DbContext()\n",
        "\n",
        "    [<DefaultValue>] val mutable rankings : DbSet<Ranking>    \n",
        "    member this.Rankings with get() = this.rankings and set v = this.rankings <- v\n",
        "\n",
        "    override this.OnConfiguring optionsBuilder =        \n",
        "        optionsBuilder.UseOracle(connectionString) |> ignore\n",
        "\n",
        "let ctx = new ObjDbContext()\n",
        "\n",
        "let result = query {\n",
        "  for r in ctx.Rankings do\n",
        "  select r.CODE\n",
        "  take 10\n",
        "}\n",
        "\n",
        "result\n"
      ]
    },
    {
      "cell_type": "code",
      "execution_count": null,
      "metadata": {
        "dotnet_interactive": {
          "language": "fsharp"
        }
      },
      "outputs": [],
      "source": [
        "open System\n",
        "open System.Linq\n",
        "open System.Text.RegularExpressions\n",
        "open System.IO\n",
        "\n",
        "let inputDir = @\"C:\\DEV\\Git\\SPR\\spr-backend\"\n",
        "let outputDir = @\"C:\\DEV\\Git\\SPR\"\n",
        "let files = Directory.GetFiles(inputDir, \"*Map.cs\", SearchOption.AllDirectories)\n",
        "let getModelAndTableName file =\n",
        "    let fileContent = File.ReadAllText file\n",
        "    let find regex = Regex.Match(fileContent, regex).Groups.[1].Value\n",
        "    let modelName = find \"ClassMap<(\\w+)>\"\n",
        "    let tableName = find \"Table\\(\\\"(\\w+)\\\"\\)\"\n",
        "    let tableName =\n",
        "        if String.IsNullOrEmpty tableName then \n",
        "            find \" TableName = \\\"(\\w+)\\\";\"\n",
        "        else\n",
        "            tableName\n",
        "    (modelName, tableName)\n",
        "\n",
        "let data = \n",
        "    files\n",
        "    |> Seq.map getModelAndTableName\n",
        "    |> Seq.filter (fun (model, table) -> not (String.IsNullOrEmpty model || String.IsNullOrEmpty table))\n",
        "    |> Seq.map (fun (model, table) -> $\"select '{model}' as model_name, '{table}' as table_name from dual \")\n",
        "    |> Array.ofSeq\n",
        "    |> String.concat \"union\\n\"\n",
        "\n",
        "File.WriteAllText(Path.Combine(outputDir, \"foo.txt\"), data)\n"
      ]
    },
    {
      "cell_type": "code",
      "execution_count": null,
      "metadata": {
        "dotnet_interactive": {
          "language": "fsharp"
        }
      },
      "outputs": [],
      "source": [
        "#r \"nuget: FSharp.Data, 4.1.1\"\n",
        "\n",
        "open System\n",
        "open FSharp.Data\n",
        "\n",
        "let query = \"{ \\\"query\\\": \\\"{ continents { name } }\\\" }\"\n",
        "let result = Http.RequestString\n",
        "              (\n",
        "                url = \"https://countries.trevorblades.com\",\n",
        "                httpMethod = \"POST\",\n",
        "                headers = [ HttpRequestHeaders.ContentType \"application/json\" ],\n",
        "                body = TextRequest query\n",
        "              )\n",
        "printfn $\"Query: {query}\\nResult: {result}\""
      ]
    },
    {
      "cell_type": "code",
      "execution_count": null,
      "metadata": {
        "dotnet_interactive": {
          "language": "fsharp"
        }
      },
      "outputs": [],
      "source": [
        "open System\n",
        "\n",
        "type RoundingWorkflow(sigDigs : int) =\n",
        "    let round (x : float) = Math.Round(float x, sigDigs)\n",
        "\n",
        "    member this.Bind (result : float, rest : float -> float) =\n",
        "        let result' = round result\n",
        "        rest result'\n",
        "\n",
        "    member this.Return (x : float) : float =\n",
        "        round x\n",
        "\n",
        "let withPrecision sigDigs = RoundingWorkflow(sigDigs)\n",
        "\n",
        "let test =\n",
        "    withPrecision 3 {\n",
        "      let! x = 1.0 / 3.0\n",
        "      return x\n",
        "    }\n",
        "\n",
        "test\n"
      ]
    },
    {
      "cell_type": "code",
      "execution_count": null,
      "metadata": {
        "dotnet_interactive": {
          "language": "fsharp"
        }
      },
      "outputs": [],
      "source": [
        "let isPrime n =\n",
        "    match n with\n",
        "    | 1 -> false\n",
        "    | 2 -> true\n",
        "    | _ when n % 2 = 0 || [3 .. 2 .. int (sqrt (float n)) + 1] |> Seq.exists (fun x -> n % x = 0) -> false\n",
        "    | _ -> true\n",
        "\n",
        "let prime n =\n",
        "    Seq.initInfinite ((+) 1) |> Seq.filter isPrime |> Seq.item (n - 1)\n",
        "\n",
        "let p = prime 10001\n",
        "\n",
        "p"
      ]
    }
  ],
  "metadata": {
    "kernelspec": {
      "display_name": ".NET (C#)",
      "language": "C#",
      "name": ".net-csharp"
    },
    "language_info": {
      "file_extension": ".cs",
      "mimetype": "text/x-csharp",
      "name": "C#",
      "pygments_lexer": "csharp",
      "version": "9.0"
    },
    "orig_nbformat": 3
  },
  "nbformat": 4,
  "nbformat_minor": 4
}
