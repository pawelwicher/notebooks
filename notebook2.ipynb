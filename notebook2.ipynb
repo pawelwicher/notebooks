{
  "cells": [
    {
      "cell_type": "markdown",
      "metadata": {},
      "source": [
        "# Notebook"
      ]
    },
    {
      "cell_type": "code",
      "execution_count": 1,
      "metadata": {
        "dotnet_interactive": {
          "language": "fsharp"
        }
      },
      "source": [
        "let isPrime n =\n",
        "    match n with\n",
        "    | 1 -> false\n",
        "    | 2 -> true\n",
        "    | _ when n % 2 = 0 || [3 .. 2 .. int (sqrt (float n)) + 1] |> Seq.exists (fun x -> n % x = 0) -> false\n",
        "    | _ -> true\n",
        "\n",
        "let prime n =\n",
        "    Seq.initInfinite ((+) 1) |> Seq.filter isPrime |> Seq.item (n - 1)\n",
        "\n",
        "let p = prime 10001\n",
        "\n",
        "p"
      ],
      "outputs": []
    },
    {
      "cell_type": "code",
      "execution_count": 1,
      "metadata": {
        "dotnet_interactive": {
          "language": "javascript"
        }
      },
      "source": [
        "console.log(2 ** 10);"
      ],
      "outputs": [
        {
          "output_type": "execute_result",
          "data": {
            "text/html": "<script type=\"text/javascript\">\nif (typeof window.createDotnetInteractiveClient === typeof Function) {\n    window.createDotnetInteractiveClient('http://localhost:52635/').then(async function (interactive) {\n        const console = interactive.getConsole('6');\n        const notebookScope = getDotnetInteractiveScope('http://localhost:52635/');\n        try {\n\nawait Object.getPrototypeOf(async function() {}).constructor(\n    \"interactive\",\n    \"console\",\n    \"notebookScope\",\n    \"console.log(2 ** 10);\"\n)(\n    interactive,\n    console,\n    notebookScope\n);\n\n        } catch (err) {\n            interactive.failCommand(err, '6');\n        } finally {\n            await interactive.waitForAllEventsToPublish('6');\n            await interactive.markExecutionComplete('6');\n        }\n    });\n}\n</script>"
          },
          "execution_count": 1,
          "metadata": {}
        },
        {
          "output_type": "execute_result",
          "data": {
            "application/json": 1024
          },
          "execution_count": 1,
          "metadata": {}
        }
      ]
    },
    {
      "cell_type": "code",
      "execution_count": 1,
      "metadata": {
        "dotnet_interactive": {
          "language": "csharp"
        }
      },
      "source": [
        "var x = 1;\n",
        "x + 1"
      ],
      "outputs": [
        {
          "output_type": "execute_result",
          "data": {
            "text/html": "<div class=\"dni-plaintext\">2</div>"
          },
          "execution_count": 1,
          "metadata": {}
        }
      ]
    },
    {
      "cell_type": "code",
      "execution_count": 1,
      "metadata": {
        "dotnet_interactive": {
          "language": "pwsh"
        }
      },
      "source": [
        "docker ps -a"
      ],
      "outputs": [
        {
          "output_type": "execute_result",
          "data": {
            "text/plain": "CONTAINER ID        IMAGE                        COMMAND                  CREATED             STATUS              PORTS                                            NAMES\r\n"
          },
          "execution_count": 1,
          "metadata": {}
        },
        {
          "output_type": "execute_result",
          "data": {
            "text/plain": "b572e9cc8f3e        nginx:1.16.1                 \"nginx -g 'daemon of…\"   3 months ago        Up 5 hours          0.0.0.0:80->80/tcp, 0.0.0.0:443->443/tcp         docker_nginx_proxy\r\n"
          },
          "execution_count": 1,
          "metadata": {}
        },
        {
          "output_type": "execute_result",
          "data": {
            "text/plain": "da39f0754595        portainer/portainer:1.22.2   \"/portainer\"             16 months ago       Up 5 hours          0.0.0.0:9000->9000/tcp                           docker_portainer\r\n"
          },
          "execution_count": 1,
          "metadata": {}
        },
        {
          "output_type": "execute_result",
          "data": {
            "text/plain": "afeadc49aac0        sath89/oracle-12c            \"/entrypoint.sh \"        2 years ago         Up 5 hours          0.0.0.0:1521->1521/tcp, 0.0.0.0:8080->8080/tcp   docker_oracle12r1\r\n"
          },
          "execution_count": 1,
          "metadata": {}
        }
      ]
    }
  ],
  "metadata": {
    "kernelspec": {
      "display_name": ".NET (C#)",
      "language": "C#",
      "name": ".net-csharp"
    },
    "language_info": {
      "file_extension": ".cs",
      "mimetype": "text/x-csharp",
      "name": "C#",
      "pygments_lexer": "csharp",
      "version": "8.0"
    }
  },
  "nbformat": 4,
  "nbformat_minor": 4
}