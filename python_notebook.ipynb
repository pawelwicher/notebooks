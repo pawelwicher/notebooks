{
 "cells": [
  {
   "cell_type": "code",
   "execution_count": 2,
   "source": [
    "2 ** 10"
   ],
   "outputs": [
    {
     "output_type": "execute_result",
     "data": {
      "text/plain": [
       "1024"
      ]
     },
     "metadata": {},
     "execution_count": 2
    }
   ],
   "metadata": {}
  },
  {
   "cell_type": "code",
   "execution_count": 7,
   "source": [
    "print(\"hello world\")"
   ],
   "outputs": [
    {
     "output_type": "stream",
     "name": "stdout",
     "text": [
      "hello world\n"
     ]
    }
   ],
   "metadata": {}
  },
  {
   "cell_type": "code",
   "execution_count": 6,
   "source": [
    "for i in range(10, 0, -2):\r\n",
    "  print(i)\r\n",
    "else:\r\n",
    "  print('else')"
   ],
   "outputs": [
    {
     "output_type": "stream",
     "name": "stdout",
     "text": [
      "10\n",
      "8\n",
      "6\n",
      "4\n",
      "2\n",
      "else\n"
     ]
    }
   ],
   "metadata": {}
  },
  {
   "cell_type": "code",
   "execution_count": 3,
   "source": [
    "n = 0\r\n",
    "while n < 3:\r\n",
    "    n = n + 1\r\n",
    "    print(n)\r\n",
    "else:\r\n",
    "    print('else')"
   ],
   "outputs": [
    {
     "output_type": "stream",
     "name": "stdout",
     "text": [
      "1\n",
      "2\n",
      "3\n",
      "else\n"
     ]
    }
   ],
   "metadata": {}
  },
  {
   "cell_type": "code",
   "execution_count": 7,
   "source": [
    "def sum(a, b):\r\n",
    "  return a + b\r\n",
    "\r\n",
    "p1 = sum(1, 2)\r\n",
    "p2 = sum(a = 2, b = 3)\r\n",
    "p3 = sum(*[3, 4])\r\n",
    "p4 = sum(**{'a': 4, 'b': 5})\r\n",
    "(p1, p2, p3, p4)"
   ],
   "outputs": [
    {
     "output_type": "execute_result",
     "data": {
      "text/plain": [
       "(3, 5, 7, 9)"
      ]
     },
     "metadata": {},
     "execution_count": 7
    }
   ],
   "metadata": {}
  },
  {
   "cell_type": "code",
   "execution_count": 21,
   "source": [
    "1 in [1, 2, 3]\r\n",
    "\r\n",
    "1 in set([1, 2, 3])\r\n",
    "\r\n",
    "'a' in dict(a = 1, b = 2)"
   ],
   "outputs": [
    {
     "output_type": "execute_result",
     "data": {
      "text/plain": [
       "True"
      ]
     },
     "metadata": {},
     "execution_count": 21
    }
   ],
   "metadata": {}
  },
  {
   "cell_type": "code",
   "execution_count": 2,
   "source": [
    "[x for x in range(10) if x > 5]"
   ],
   "outputs": [
    {
     "output_type": "execute_result",
     "data": {
      "text/plain": [
       "[6, 7, 8, 9]"
      ]
     },
     "metadata": {},
     "execution_count": 2
    }
   ],
   "metadata": {}
  },
  {
   "cell_type": "code",
   "execution_count": 7,
   "source": [
    "x = 1 if 5 > 4 else 2\r\n",
    "x"
   ],
   "outputs": [
    {
     "output_type": "execute_result",
     "data": {
      "text/plain": [
       "1"
      ]
     },
     "metadata": {},
     "execution_count": 7
    }
   ],
   "metadata": {}
  },
  {
   "cell_type": "code",
   "execution_count": 8,
   "source": [
    "class Dog:\r\n",
    "    def __init__(self, name):\r\n",
    "        self.name = name\r\n",
    "        self.tricks = []    # creates a new empty list for each dog\r\n",
    "\r\n",
    "    def add_trick(self, trick):\r\n",
    "        self.tricks.append(trick)\r\n",
    "\r\n",
    "d = Dog('Fido')\r\n",
    "e = Dog('Buddy')\r\n",
    "d.add_trick('roll over')\r\n",
    "d.add_trick('roll over')\r\n",
    "e.add_trick('play dead')\r\n",
    "d.tricks, e.tricks"
   ],
   "outputs": [
    {
     "output_type": "execute_result",
     "data": {
      "text/plain": [
       "(['roll over'], ['play dead'])"
      ]
     },
     "metadata": {},
     "execution_count": 8
    }
   ],
   "metadata": {}
  }
 ],
 "metadata": {
  "orig_nbformat": 4,
  "language_info": {
   "name": "python",
   "version": "3.9.6",
   "mimetype": "text/x-python",
   "codemirror_mode": {
    "name": "ipython",
    "version": 3
   },
   "pygments_lexer": "ipython3",
   "nbconvert_exporter": "python",
   "file_extension": ".py"
  },
  "kernelspec": {
   "name": "python3",
   "display_name": "Python 3.9.6 64-bit"
  },
  "interpreter": {
   "hash": "f356c0695c5486750fb7302ddb2740fcf1c75f548071cb280779c0a64a264ab3"
  }
 },
 "nbformat": 4,
 "nbformat_minor": 2
}